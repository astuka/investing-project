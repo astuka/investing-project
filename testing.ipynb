{
 "cells": [
  {
   "cell_type": "code",
   "execution_count": 9,
   "metadata": {},
   "outputs": [
    {
     "name": "stderr",
     "output_type": "stream",
     "text": [
      "[*********************100%%**********************]  1 of 1 completed\n",
      "[*********************100%%**********************]  1 of 1 completed\n",
      "[*********************100%%**********************]  1 of 1 completed\n",
      "[*********************100%%**********************]  1 of 1 completed\n"
     ]
    },
    {
     "data": {
      "text/html": [
       "<div>\n",
       "<style scoped>\n",
       "    .dataframe tbody tr th:only-of-type {\n",
       "        vertical-align: middle;\n",
       "    }\n",
       "\n",
       "    .dataframe tbody tr th {\n",
       "        vertical-align: top;\n",
       "    }\n",
       "\n",
       "    .dataframe thead th {\n",
       "        text-align: right;\n",
       "    }\n",
       "</style>\n",
       "<table border=\"1\" class=\"dataframe\">\n",
       "  <thead>\n",
       "    <tr style=\"text-align: right;\">\n",
       "      <th></th>\n",
       "      <th>AAPL</th>\n",
       "      <th>IBM</th>\n",
       "      <th>MSFT</th>\n",
       "      <th>WMT</th>\n",
       "    </tr>\n",
       "    <tr>\n",
       "      <th>Date</th>\n",
       "      <th></th>\n",
       "      <th></th>\n",
       "      <th></th>\n",
       "      <th></th>\n",
       "    </tr>\n",
       "  </thead>\n",
       "  <tbody>\n",
       "    <tr>\n",
       "      <th>2024-07-24</th>\n",
       "      <td>218.287323</td>\n",
       "      <td>182.424484</td>\n",
       "      <td>428.899994</td>\n",
       "      <td>70.599998</td>\n",
       "    </tr>\n",
       "    <tr>\n",
       "      <th>2024-07-25</th>\n",
       "      <td>217.238556</td>\n",
       "      <td>190.315460</td>\n",
       "      <td>418.399994</td>\n",
       "      <td>70.019997</td>\n",
       "    </tr>\n",
       "    <tr>\n",
       "      <th>2024-07-26</th>\n",
       "      <td>217.708008</td>\n",
       "      <td>190.087448</td>\n",
       "      <td>425.269989</td>\n",
       "      <td>69.779999</td>\n",
       "    </tr>\n",
       "    <tr>\n",
       "      <th>2024-07-29</th>\n",
       "      <td>217.987686</td>\n",
       "      <td>189.839615</td>\n",
       "      <td>426.730011</td>\n",
       "      <td>69.620003</td>\n",
       "    </tr>\n",
       "    <tr>\n",
       "      <th>2024-07-30</th>\n",
       "      <td>218.547043</td>\n",
       "      <td>189.383606</td>\n",
       "      <td>422.920013</td>\n",
       "      <td>69.190002</td>\n",
       "    </tr>\n",
       "  </tbody>\n",
       "</table>\n",
       "</div>"
      ],
      "text/plain": [
       "                  AAPL         IBM        MSFT        WMT\n",
       "Date                                                     \n",
       "2024-07-24  218.287323  182.424484  428.899994  70.599998\n",
       "2024-07-25  217.238556  190.315460  418.399994  70.019997\n",
       "2024-07-26  217.708008  190.087448  425.269989  69.779999\n",
       "2024-07-29  217.987686  189.839615  426.730011  69.620003\n",
       "2024-07-30  218.547043  189.383606  422.920013  69.190002"
      ]
     },
     "execution_count": 9,
     "metadata": {},
     "output_type": "execute_result"
    }
   ],
   "source": [
    "import numpy as np\n",
    "import yfinance as yf\n",
    "import pandas as pd\n",
    "from datetime import datetime, timedelta\n",
    "from statistics import mean\n",
    "\n",
    "from requests import Session\n",
    "from requests_cache import CacheMixin, SQLiteCache\n",
    "from requests_ratelimiter import LimiterMixin, MemoryQueueBucket\n",
    "from pyrate_limiter import Duration, RequestRate, Limiter\n",
    "class CachedLimiterSession(CacheMixin, LimiterMixin, Session):\n",
    "    pass\n",
    "\n",
    "session = CachedLimiterSession( #rate limiter which bypasses yahoo's blocker\n",
    "    limiter=Limiter(RequestRate(2, Duration.SECOND*5)),  # max 2 requests per 5 seconds\n",
    "    bucket_class=MemoryQueueBucket,\n",
    "    backend=SQLiteCache(\"yfinance.cache\"),\n",
    ")\n",
    "\n",
    "# using now() to get current time\n",
    "\n",
    "today = datetime.today()\n",
    "\n",
    "# Calculate the date 21 days before today\n",
    "past = today - timedelta(days=21)    \n",
    "\n",
    "# Set the start and end date\n",
    "start_date = past\n",
    "end_date = today\n",
    "\n",
    "# Define the ticker list\n",
    "tickers_list = ['AAPL', 'IBM', 'MSFT', 'WMT']\n",
    "\n",
    "# Create placeholder for data\n",
    "data = pd.DataFrame(columns=tickers_list)\n",
    "\n",
    "# Fetch the data\n",
    "for ticker in tickers_list:\n",
    "    data[ticker] = yf.download(ticker, \n",
    "                               start_date,\n",
    "                               end_date,\n",
    "                               session=session)['Adj Close']\n",
    "\n",
    "#Adj Close, Low\n",
    "    \n",
    "# Print first 5 rows of the data\n",
    "data.head()"
   ]
  },
  {
   "cell_type": "code",
   "execution_count": 10,
   "metadata": {},
   "outputs": [
    {
     "name": "stdout",
     "output_type": "stream",
     "text": [
      "[218.287323   217.23855591 217.70800781 217.98768616 218.54704285\n",
      " 221.82324219 218.10754395 219.60580444 209.02806091 206.99040222\n",
      " 209.5774231  213.06338501 215.99000549 217.52999878 221.27000427]\n",
      "15\n"
     ]
    }
   ],
   "source": [
    "# NOTE: This next section is just for sanity checks. You can skip down to \"FULL RUN\" if you have faith in the system. \n",
    "\n",
    "prices_array = data['AAPL'].values\n",
    "prices_length = len(prices_array)\n",
    "\n",
    "print(f\"{prices_array}\")\n",
    "print(f\"{prices_length}\")"
   ]
  },
  {
   "cell_type": "code",
   "execution_count": 11,
   "metadata": {},
   "outputs": [
    {
     "name": "stdout",
     "output_type": "stream",
     "text": [
      "Daily Returns: [-0.48045259  0.21609972  0.12846489  0.25660013  1.49908198 -1.67507165\n",
      "  0.68693658 -4.81669579 -0.97482543  1.24982649  1.66332893  1.37359147\n",
      "  0.71299285  1.71930562]\n",
      "Positive Returns: [0.21609972 0.12846489 0.25660013 1.49908198 0.68693658 1.24982649\n",
      " 1.66332893 1.37359147 0.71299285 1.71930562]\n",
      "Negative Returns: [-0.48045259 -1.67507165 -4.81669579 -0.97482543]\n"
     ]
    }
   ],
   "source": [
    "#from here:\n",
    "#calculate daily returns -- might even just be able to get returns from yfinance straight\n",
    "#do kelly weighting\n",
    "#rank the stocks in order by their kelly weights\n",
    "#can input portfolio value to know how to separate number of shares?\n",
    "\n",
    "# 1) Calculate daily stock returns (percentage change)\n",
    "daily_returns = np.diff(prices_array) / prices_array[:-1] * 100\n",
    "\n",
    "# 2) Separate the returns into positive and negative arrays\n",
    "positive_returns = daily_returns[daily_returns > 0]\n",
    "negative_returns = daily_returns[daily_returns < 0]\n",
    "\n",
    "# Output the results\n",
    "print(\"Daily Returns:\", daily_returns)\n",
    "print(\"Positive Returns:\", positive_returns)\n",
    "print(\"Negative Returns:\", negative_returns)"
   ]
  },
  {
   "cell_type": "code",
   "execution_count": 14,
   "metadata": {},
   "outputs": [
    {
     "name": "stdout",
     "output_type": "stream",
     "text": [
      "10\n",
      "4\n",
      "0.7142857142857143\n",
      "0.2857142857142857\n",
      "1.9867613630361394\n",
      "0.9506228649802975\n"
     ]
    }
   ],
   "source": [
    "#Grab average, count, prob\n",
    "\n",
    "pos_freq = len(positive_returns)\n",
    "\n",
    "neg_freq = len(negative_returns)\n",
    "\n",
    "pos_prob = pos_freq / (pos_freq + neg_freq)\n",
    "\n",
    "neg_prob = neg_freq / (pos_freq + neg_freq)\n",
    "\n",
    "pos_avg = abs(mean(positive_returns))\n",
    "\n",
    "neg_avg = abs(mean(negative_returns))\n",
    "\n",
    "print(pos_freq)\n",
    "print(neg_freq)\n",
    "print(pos_prob)\n",
    "print(neg_prob)\n",
    "print(neg_avg)\n",
    "print(pos_avg)"
   ]
  },
  {
   "cell_type": "code",
   "execution_count": 17,
   "metadata": {},
   "outputs": [
    {
     "name": "stdout",
     "output_type": "stream",
     "text": [
      "5.896783035088299\n"
     ]
    }
   ],
   "source": [
    "#calculate the kelly betting weight\n",
    "\n",
    "kelly_weight = ((pos_prob / neg_avg) - (neg_prob / pos_avg)) * 100\n",
    "\n",
    "print(kelly_weight)"
   ]
  },
  {
   "cell_type": "code",
   "execution_count": 24,
   "metadata": {},
   "outputs": [
    {
     "name": "stdout",
     "output_type": "stream",
     "text": [
      "{'AAPL': 5.896783035088299, 'IBM': 22.963172459726245, 'MSFT': 0, 'WMT': 0}\n"
     ]
    }
   ],
   "source": [
    "#FULL RUN\n",
    "\n",
    "kelly = {}\n",
    "\n",
    "for ticker in tickers_list:\n",
    "    prices_array = data[ticker].values\n",
    "    prices_length = len(prices_array)\n",
    "\n",
    "    daily_returns = np.diff(prices_array) / prices_array[:-1] * 100\n",
    "\n",
    "    positive_returns = daily_returns[daily_returns > 0]\n",
    "    negative_returns = daily_returns[daily_returns < 0]\n",
    "\n",
    "    pos_freq = len(positive_returns)\n",
    "\n",
    "    neg_freq = len(negative_returns)\n",
    "\n",
    "    pos_prob = pos_freq / (pos_freq + neg_freq)\n",
    "\n",
    "    neg_prob = neg_freq / (pos_freq + neg_freq)\n",
    "\n",
    "    pos_avg = abs(mean(positive_returns))\n",
    "\n",
    "    neg_avg = abs(mean(negative_returns))\n",
    "\n",
    "    kelly_weight = ((pos_prob / neg_avg) - (neg_prob / pos_avg)) * 100\n",
    "\n",
    "    if kelly_weight < 0:\n",
    "        kelly[ticker] = 0\n",
    "    else: \n",
    "        kelly[ticker] = float(kelly_weight)\n",
    "\n",
    "print(kelly)\n",
    "    \n"
   ]
  },
  {
   "cell_type": "code",
   "execution_count": 28,
   "metadata": {},
   "outputs": [
    {
     "name": "stdout",
     "output_type": "stream",
     "text": [
      "{'AAPL': 221, 'IBM': 190, 'MSFT': 414, 'WMT': 68}\n",
      "28.859955494814542\n",
      "{'AAPL': 0.20432405157893652, 'IBM': 0.7956759484210635, 'MSFT': 0.0, 'WMT': 0.0}\n",
      "{'AAPL': 92, 'IBM': 418, 'MSFT': 0, 'WMT': 0}\n"
     ]
    }
   ],
   "source": [
    "#and finally, portfolio weights\n",
    "\n",
    "portfolio = 100000 #change this with portfolio size\n",
    "\n",
    "price = {}\n",
    "\n",
    "for ticker in tickers_list:\n",
    "    prices_array = data[ticker].values\n",
    "    price[ticker] = int(prices_array[-1])\n",
    "\n",
    "print(price)\n",
    "\n",
    "true_weights = {}\n",
    "sum = 0\n",
    "\n",
    "for ticker in tickers_list:\n",
    "    sum += kelly[ticker]\n",
    "\n",
    "print(sum)\n",
    "\n",
    "for ticker in tickers_list:\n",
    "    true_weights[ticker] = kelly[ticker] / sum\n",
    "\n",
    "print(true_weights)\n",
    "\n",
    "shares = {}\n",
    "\n",
    "for ticker in tickers_list:\n",
    "    shares[ticker] = int((portfolio * true_weights[ticker]) / price[ticker])\n",
    "\n",
    "print(shares)"
   ]
  }
 ],
 "metadata": {
  "kernelspec": {
   "display_name": "Python 3",
   "language": "python",
   "name": "python3"
  },
  "language_info": {
   "codemirror_mode": {
    "name": "ipython",
    "version": 3
   },
   "file_extension": ".py",
   "mimetype": "text/x-python",
   "name": "python",
   "nbconvert_exporter": "python",
   "pygments_lexer": "ipython3",
   "version": "3.12.5"
  }
 },
 "nbformat": 4,
 "nbformat_minor": 2
}
