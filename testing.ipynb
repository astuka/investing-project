{
 "cells": [
  {
   "cell_type": "code",
   "execution_count": 11,
   "metadata": {},
   "outputs": [
    {
     "name": "stderr",
     "output_type": "stream",
     "text": [
      "[*********************100%%**********************]  1 of 1 completed\n",
      "[*********************100%%**********************]  1 of 1 completed\n",
      "[*********************100%%**********************]  1 of 1 completed\n",
      "[*********************100%%**********************]  1 of 1 completed\n"
     ]
    },
    {
     "data": {
      "text/html": [
       "<div>\n",
       "<style scoped>\n",
       "    .dataframe tbody tr th:only-of-type {\n",
       "        vertical-align: middle;\n",
       "    }\n",
       "\n",
       "    .dataframe tbody tr th {\n",
       "        vertical-align: top;\n",
       "    }\n",
       "\n",
       "    .dataframe thead th {\n",
       "        text-align: right;\n",
       "    }\n",
       "</style>\n",
       "<table border=\"1\" class=\"dataframe\">\n",
       "  <thead>\n",
       "    <tr style=\"text-align: right;\">\n",
       "      <th></th>\n",
       "      <th>AAPL</th>\n",
       "      <th>IBM</th>\n",
       "      <th>MSFT</th>\n",
       "      <th>WMT</th>\n",
       "    </tr>\n",
       "    <tr>\n",
       "      <th>Date</th>\n",
       "      <th></th>\n",
       "      <th></th>\n",
       "      <th></th>\n",
       "      <th></th>\n",
       "    </tr>\n",
       "  </thead>\n",
       "  <tbody>\n",
       "    <tr>\n",
       "      <th>2024-07-23</th>\n",
       "      <td>222.679993</td>\n",
       "      <td>183.009995</td>\n",
       "      <td>443.100006</td>\n",
       "      <td>70.110001</td>\n",
       "    </tr>\n",
       "    <tr>\n",
       "      <th>2024-07-24</th>\n",
       "      <td>217.130005</td>\n",
       "      <td>183.149994</td>\n",
       "      <td>427.589996</td>\n",
       "      <td>70.339996</td>\n",
       "    </tr>\n",
       "    <tr>\n",
       "      <th>2024-07-25</th>\n",
       "      <td>214.619995</td>\n",
       "      <td>185.300003</td>\n",
       "      <td>417.510010</td>\n",
       "      <td>69.949997</td>\n",
       "    </tr>\n",
       "    <tr>\n",
       "      <th>2024-07-26</th>\n",
       "      <td>216.009995</td>\n",
       "      <td>189.619995</td>\n",
       "      <td>417.269989</td>\n",
       "      <td>68.830002</td>\n",
       "    </tr>\n",
       "    <tr>\n",
       "      <th>2024-07-29</th>\n",
       "      <td>215.750000</td>\n",
       "      <td>189.179993</td>\n",
       "      <td>424.700012</td>\n",
       "      <td>69.129997</td>\n",
       "    </tr>\n",
       "  </tbody>\n",
       "</table>\n",
       "</div>"
      ],
      "text/plain": [
       "                  AAPL         IBM        MSFT        WMT\n",
       "Date                                                     \n",
       "2024-07-23  222.679993  183.009995  443.100006  70.110001\n",
       "2024-07-24  217.130005  183.149994  427.589996  70.339996\n",
       "2024-07-25  214.619995  185.300003  417.510010  69.949997\n",
       "2024-07-26  216.009995  189.619995  417.269989  68.830002\n",
       "2024-07-29  215.750000  189.179993  424.700012  69.129997"
      ]
     },
     "execution_count": 11,
     "metadata": {},
     "output_type": "execute_result"
    }
   ],
   "source": [
    "import yfinance as yf\n",
    "import pandas as pd\n",
    "from datetime import datetime, timedelta\n",
    "\n",
    "from requests import Session\n",
    "from requests_cache import CacheMixin, SQLiteCache\n",
    "from requests_ratelimiter import LimiterMixin, MemoryQueueBucket\n",
    "from pyrate_limiter import Duration, RequestRate, Limiter\n",
    "class CachedLimiterSession(CacheMixin, LimiterMixin, Session):\n",
    "    pass\n",
    "\n",
    "session = CachedLimiterSession( #rate limiter which bypasses yahoo's blocker\n",
    "    limiter=Limiter(RequestRate(2, Duration.SECOND*5)),  # max 2 requests per 5 seconds\n",
    "    bucket_class=MemoryQueueBucket,\n",
    "    backend=SQLiteCache(\"yfinance.cache\"),\n",
    ")\n",
    "\n",
    "# using now() to get current time\n",
    "\n",
    "today = datetime.today()\n",
    "\n",
    "# Calculate the date 21 days before today\n",
    "past = today - timedelta(days=21)    \n",
    "\n",
    "# Set the start and end date\n",
    "start_date = past\n",
    "end_date = today\n",
    "\n",
    "# Define the ticker list\n",
    "tickers_list = ['AAPL', 'IBM', 'MSFT', 'WMT']\n",
    "\n",
    "# Create placeholder for data\n",
    "data = pd.DataFrame(columns=tickers_list)\n",
    "\n",
    "# Fetch the data\n",
    "for ticker in tickers_list:\n",
    "    data[ticker] = yf.download(ticker, \n",
    "                               start_date,\n",
    "                               end_date,\n",
    "                               session=session)['Adj Close']\n",
    "\n",
    "#Adj Close, Low\n",
    "    \n",
    "# Print first 5 rows of the data\n",
    "data.head()"
   ]
  },
  {
   "cell_type": "code",
   "execution_count": 14,
   "metadata": {},
   "outputs": [
    {
     "name": "stdout",
     "output_type": "stream",
     "text": [
      "[222.67999268 217.13000488 214.61999512 216.00999451 215.75\n",
      " 216.11999512 220.63000488 217.02000427 217.71000671 196.\n",
      " 201.07000732 206.38999939 208.83000183 211.97000122 215.6000061\n",
      " 219.00999451]\n",
      "16\n"
     ]
    }
   ],
   "source": [
    "prices_array = data['AAPL'].values\n",
    "prices_length = len(prices_array)\n",
    "\n",
    "print(f\"{prices_array}\")\n",
    "print(f\"{prices_length}\")"
   ]
  },
  {
   "cell_type": "code",
   "execution_count": null,
   "metadata": {},
   "outputs": [],
   "source": [
    "#from here:\n",
    "#calculate daily returns -- might even just be able to get returns from yfinance straight\n",
    "#do kelly weighting\n",
    "#rank the stocks in order by their kelly weights\n",
    "#can input portfolio value to know how to separate number of shares?"
   ]
  }
 ],
 "metadata": {
  "kernelspec": {
   "display_name": "Python 3",
   "language": "python",
   "name": "python3"
  },
  "language_info": {
   "codemirror_mode": {
    "name": "ipython",
    "version": 3
   },
   "file_extension": ".py",
   "mimetype": "text/x-python",
   "name": "python",
   "nbconvert_exporter": "python",
   "pygments_lexer": "ipython3",
   "version": "3.12.5"
  }
 },
 "nbformat": 4,
 "nbformat_minor": 2
}
